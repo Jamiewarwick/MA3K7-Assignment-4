{
 "cells": [
  {
   "cell_type": "code",
   "execution_count": 1,
   "id": "ee5ff49a-55c1-4411-91e9-971023060e2e",
   "metadata": {
    "tags": []
   },
   "outputs": [],
   "source": [
    "import numpy as np\n",
    "import matplotlib.pyplot as plt"
   ]
  },
  {
   "cell_type": "markdown",
   "id": "097c4233-7b89-4133-b098-e495ab4eb2ba",
   "metadata": {},
   "source": [
    "First, let's compute our first analytic solution:"
   ]
  },
  {
   "cell_type": "code",
   "execution_count": 13,
   "id": "30597cbf-4cab-49cf-afc1-de4845056c42",
   "metadata": {
    "tags": []
   },
   "outputs": [],
   "source": [
    "l1 = 2/3\n",
    "l2 = 1/3\n",
    "\n",
    "#set it up so u[n] = u_n \n",
    "us = np.zeros(26)\n",
    "for n in range(1,26):\n",
    "    us[n] = l1 + l2*(-0.5)**n"
   ]
  },
  {
   "cell_type": "code",
   "execution_count": 14,
   "id": "cd95669e-1082-4073-b131-17d034516718",
   "metadata": {
    "tags": []
   },
   "outputs": [
    {
     "data": {
      "text/plain": [
       "0.6666666567325592"
      ]
     },
     "execution_count": 14,
     "metadata": {},
     "output_type": "execute_result"
    }
   ],
   "source": [
    "us[25]"
   ]
  },
  {
   "cell_type": "markdown",
   "id": "53db140d-346d-4897-9eac-f5446dbc0949",
   "metadata": {},
   "source": [
    "Now lets check our solution by checking the other values of u"
   ]
  },
  {
   "cell_type": "code",
   "execution_count": 15,
   "id": "c73517ef-f1d1-412a-9ca5-656c4420e0b0",
   "metadata": {
    "tags": []
   },
   "outputs": [
    {
     "name": "stdout",
     "output_type": "stream",
     "text": [
      "[0.         0.5        0.75       0.625      0.6875     0.65625\n",
      " 0.671875   0.6640625  0.66796875 0.66601562 0.66699219 0.66650391\n",
      " 0.66674805 0.66662598 0.66668701 0.66665649 0.66667175 0.66666412\n",
      " 0.66666794 0.66666603 0.66666698 0.66666651 0.66666675 0.66666663\n",
      " 0.66666669 0.66666666]\n",
      "0.75\n"
     ]
    }
   ],
   "source": [
    "print(us)\n",
    "print(us[2])"
   ]
  },
  {
   "cell_type": "markdown",
   "id": "f8ed610c-9408-419a-b3a8-52f187b94c23",
   "metadata": {},
   "source": [
    "My numbers are off what I calculated by hand, They actually seem just offset, I need to fix my solution. But I want to find where the error in my solution lies, so I'll test to see if its before or after the difference equation."
   ]
  },
  {
   "cell_type": "code",
   "execution_count": 26,
   "id": "f11bc933-9221-46e0-9120-88a124545633",
   "metadata": {
    "tags": []
   },
   "outputs": [
    {
     "name": "stdout",
     "output_type": "stream",
     "text": [
      "[0. 0. 0. 0. 0. 0. 0. 0. 0. 0. 0. 0. 0. 0. 0. 0. 0. 0. 0. 0. 0. 0. 0. 0.\n",
      " 0. 1. 0.]\n",
      "[0.         0.66666669 0.66666663 0.66666675 0.66666651 0.66666698\n",
      " 0.66666603 0.66666794 0.66666412 0.66667175 0.66665649 0.66668701\n",
      " 0.66662598 0.66674805 0.66650391 0.66699219 0.66601562 0.66796875\n",
      " 0.6640625  0.671875   0.65625    0.6875     0.625      0.75\n",
      " 0.5        1.         0.        ]\n"
     ]
    }
   ],
   "source": [
    "#let u[n] be prob of hitting 25 given you start at n\n",
    "u = np.zeros(27)\n",
    "u[25] = 1\n",
    "print(u)\n",
    "for n in range(24,0,-1):\n",
    "    u[n] = 0.5*u[n+1] + 0.5*u[n+2]\n",
    "    \n",
    "    #print(u[n]) \n",
    "print(u)"
   ]
  },
  {
   "cell_type": "code",
   "execution_count": 20,
   "id": "63758161-0d46-4e63-9975-663a50235bcc",
   "metadata": {
    "tags": []
   },
   "outputs": [
    {
     "data": {
      "text/plain": [
       "1.0"
      ]
     },
     "execution_count": 20,
     "metadata": {},
     "output_type": "execute_result"
    }
   ],
   "source": [
    "u[25]"
   ]
  },
  {
   "cell_type": "code",
   "execution_count": 21,
   "id": "d07f8c8e-82be-482e-b0d1-0f7e8e60e18e",
   "metadata": {
    "tags": []
   },
   "outputs": [
    {
     "data": {
      "text/plain": [
       "0.5"
      ]
     },
     "execution_count": 21,
     "metadata": {},
     "output_type": "execute_result"
    }
   ],
   "source": [
    "u[24]"
   ]
  },
  {
   "cell_type": "markdown",
   "id": "f40c3c3a-154d-4796-b81e-0a2a71b39ac7",
   "metadata": {},
   "source": [
    "So this does work - mistake must be in solving the difference equation."
   ]
  },
  {
   "cell_type": "markdown",
   "id": "106ced8d-3556-4db5-83c6-079316165d85",
   "metadata": {},
   "source": [
    "Having fixed my solution - let me check my new solution agrees with hand calculated values and my difference equation solution, and even some random simulations!"
   ]
  },
  {
   "cell_type": "code",
   "execution_count": 27,
   "id": "cfcbe91b-d576-433c-9445-3d054a588eaf",
   "metadata": {
    "tags": []
   },
   "outputs": [],
   "source": [
    "l1 = 2/3\n",
    "l2 = -2/3\n",
    "\n",
    "#set it up so u[n] = u_n \n",
    "us = np.zeros(26)\n",
    "for n in range(1,26):\n",
    "    us[n] = l1 + l2*(-0.5)**n"
   ]
  },
  {
   "cell_type": "code",
   "execution_count": 28,
   "id": "322c3cc7-1840-42d1-ac5e-20d517ad98a6",
   "metadata": {
    "tags": []
   },
   "outputs": [
    {
     "name": "stdout",
     "output_type": "stream",
     "text": [
      "[0.         1.         0.5        0.75       0.625      0.6875\n",
      " 0.65625    0.671875   0.6640625  0.66796875 0.66601562 0.66699219\n",
      " 0.66650391 0.66674805 0.66662598 0.66668701 0.66665649 0.66667175\n",
      " 0.66666412 0.66666794 0.66666603 0.66666698 0.66666651 0.66666675\n",
      " 0.66666663 0.66666669]\n"
     ]
    }
   ],
   "source": [
    "print(us)"
   ]
  },
  {
   "cell_type": "code",
   "execution_count": 30,
   "id": "dd27a40c-db6e-478f-88c3-a537adc5fee1",
   "metadata": {
    "tags": []
   },
   "outputs": [
    {
     "data": {
      "text/plain": [
       "(1.0, 0.5, 0.75, 0.625, 0.6875)"
      ]
     },
     "execution_count": 30,
     "metadata": {},
     "output_type": "execute_result"
    }
   ],
   "source": [
    "us[1], us[2], us[3], us[4], us[5]"
   ]
  },
  {
   "cell_type": "code",
   "execution_count": 31,
   "id": "02938a4b-cad7-4bef-84db-78b24954f9fd",
   "metadata": {
    "tags": []
   },
   "outputs": [],
   "source": [
    "#AHA! One can see these agree with what I had by hand!"
   ]
  },
  {
   "cell_type": "code",
   "execution_count": 32,
   "id": "f6338d3c-1cb9-4d60-8cd2-bf256d2a1aa7",
   "metadata": {
    "tags": []
   },
   "outputs": [
    {
     "data": {
      "text/plain": [
       "0.6666666865348816"
      ]
     },
     "execution_count": 32,
     "metadata": {},
     "output_type": "execute_result"
    }
   ],
   "source": [
    "us[25]"
   ]
  },
  {
   "cell_type": "code",
   "execution_count": 34,
   "id": "45023415-e93b-493f-adc8-ad4c13ebb2fb",
   "metadata": {
    "tags": []
   },
   "outputs": [],
   "source": [
    "#So this is my correct value (hopefully). "
   ]
  },
  {
   "cell_type": "code",
   "execution_count": 40,
   "id": "15e0f66a-acb2-44d0-871d-331ae9c0105e",
   "metadata": {
    "tags": []
   },
   "outputs": [
    {
     "name": "stdout",
     "output_type": "stream",
     "text": [
      "[0.         1.         0.5        0.75       0.625      0.6875\n",
      " 0.65625    0.671875   0.6640625  0.66796875 0.66601562 0.66699219\n",
      " 0.66650391 0.66674805 0.66662598 0.66668701 0.66665649 0.66667175\n",
      " 0.66666412 0.66666794 0.66666603 0.66666698 0.66666651 0.66666675\n",
      " 0.66666663 0.66666669 0.        ]\n",
      "[0.         1.         0.5        0.75       0.625      0.6875\n",
      " 0.65625    0.671875   0.6640625  0.66796875 0.66601562 0.66699219\n",
      " 0.66650391 0.66674805 0.66662598 0.66668701 0.66665649 0.66667175\n",
      " 0.66666412 0.66666794 0.66666603 0.66666698 0.66666651 0.66666675\n",
      " 0.66666663 0.66666669]\n"
     ]
    }
   ],
   "source": [
    "print(u[::-1])\n",
    "print(us)"
   ]
  },
  {
   "cell_type": "code",
   "execution_count": 41,
   "id": "e0bc946d-c464-4c55-bd3c-5ed0c67328e3",
   "metadata": {
    "tags": []
   },
   "outputs": [],
   "source": [
    "#Clearly the above vectors have the same probabilities, so this means \n",
    "#should have the correct solution!"
   ]
  },
  {
   "cell_type": "markdown",
   "id": "eaad411e-a26c-4921-9cba-6b374a514565",
   "metadata": {},
   "source": [
    "As a third check, and leading into an exntension/generalisation, let us actually the simulate the random walks themselves in their entirety"
   ]
  },
  {
   "cell_type": "code",
   "execution_count": 59,
   "id": "9133badd-23ba-4782-847a-9f499d1ca2e6",
   "metadata": {
    "tags": []
   },
   "outputs": [
    {
     "data": {
      "text/plain": [
       "1"
      ]
     },
     "execution_count": 59,
     "metadata": {},
     "output_type": "execute_result"
    }
   ],
   "source": [
    "np.random.randint(1,3) #will return either 1 or 2 with equal probabilities"
   ]
  },
  {
   "cell_type": "code",
   "execution_count": 61,
   "id": "06465538-2fa0-4a65-8813-91d4bb315530",
   "metadata": {
    "tags": []
   },
   "outputs": [
    {
     "name": "stdout",
     "output_type": "stream",
     "text": [
      "[1, 1, 2, 3, 4, 6, 7, 8, 10, 11, 13, 14, 16, 18, 20, 21, 22, 23, 24, 25] 25\n",
      "[1, 1, 3, 4, 6, 7, 8, 10, 12, 13, 14, 16, 18, 20, 22, 24, 25] 25\n",
      "[1, 1, 2, 3, 4, 5, 6, 8, 9, 11, 13, 15, 17, 19, 21, 22, 24, 26] 26\n",
      "[1, 1, 3, 5, 6, 8, 10, 12, 13, 15, 17, 18, 20, 21, 23, 24, 25] 25\n",
      "[1, 1, 2, 3, 4, 5, 7, 8, 10, 12, 14, 16, 18, 20, 21, 22, 23, 24, 25] 25\n",
      "[1, 1, 3, 4, 5, 6, 7, 8, 9, 10, 12, 13, 15, 17, 19, 20, 21, 23, 25] 25\n",
      "[1, 1, 2, 3, 5, 7, 8, 9, 11, 13, 15, 16, 18, 20, 22, 24, 26] 26\n",
      "[1, 1, 2, 4, 5, 7, 8, 10, 12, 14, 16, 18, 20, 21, 22, 23, 24, 26] 26\n",
      "[1, 1, 3, 4, 5, 7, 8, 10, 11, 13, 14, 16, 17, 18, 20, 22, 23, 24, 26] 26\n",
      "[1, 1, 3, 4, 5, 7, 8, 10, 11, 12, 14, 15, 17, 19, 20, 21, 23, 25] 25\n"
     ]
    }
   ],
   "source": [
    "def sim1():\n",
    "    node = 1\n",
    "    nodes_hit = [1]\n",
    "    x=0\n",
    "    while node not in [25,26]:\n",
    "        node+=x    \n",
    "        nodes_hit.append(node)\n",
    "        #print(node)\n",
    "        x = np.random.randint(1,3)\n",
    "        \n",
    "    return nodes_hit\n",
    "    \n",
    "    \n",
    "    \n",
    "for i in range(10):\n",
    "    x = sim1()\n",
    "    print(x, x[-1])\n",
    "    #can get whole sim and whether it hit 25 or not looking at final value as if it hits 25 it stops on 25\n",
    "    "
   ]
  },
  {
   "cell_type": "code",
   "execution_count": 63,
   "id": "a0225f50-0c62-4d74-8fe5-5b11e58dbeae",
   "metadata": {
    "tags": []
   },
   "outputs": [
    {
     "name": "stdout",
     "output_type": "stream",
     "text": [
      "Of 50000 many simulations, we land on 25 66.652 percent of the time\n"
     ]
    }
   ],
   "source": [
    "total_sims = 50000\n",
    "counter = 0\n",
    "for i in range(total_sims):\n",
    "    #print(sim1())\n",
    "    if sim1()[-1] == 25:\n",
    "        counter+=1\n",
    "    else:\n",
    "        counter = counter\n",
    "        \n",
    "print(f\"Of {total_sims} many simulations, we land on 25 {100*counter/total_sims} percent of the time\")\n",
    "        "
   ]
  },
  {
   "cell_type": "markdown",
   "id": "d1d70e64-8af3-4669-9865-da8a4d1c39a9",
   "metadata": {},
   "source": [
    "This tends to be around 66.7 so we have another good check we have found the correct probability."
   ]
  },
  {
   "cell_type": "markdown",
   "id": "d8a2d007-a69f-4ce4-b302-4adb6a0b8649",
   "metadata": {},
   "source": [
    "We can now utilise this simulation for generalising, what if we want to hit a node that isnt 25, and what if we want to change the probability from 1/2"
   ]
  },
  {
   "cell_type": "code",
   "execution_count": 67,
   "id": "b363c36d-6360-4f26-b52c-21b50a910ecd",
   "metadata": {
    "tags": []
   },
   "outputs": [
    {
     "name": "stdout",
     "output_type": "stream",
     "text": [
      "[1, 1, 3, 4, 6, 8, 10, 12, 14, 15, 17, 19, 21, 23, 25, 27, 29, 31, 32, 34, 36, 38, 40, 42, 43, 44, 45] 45\n",
      "[1, 1, 3, 4, 6, 7, 9, 10, 12, 13, 14, 16, 18, 20, 22, 23, 24, 26, 28, 30, 32, 34, 36, 37, 38, 39, 41, 43, 45] 45\n",
      "[1, 1, 2, 4, 6, 8, 9, 11, 13, 15, 17, 19, 21, 22, 23, 25, 27, 28, 30, 31, 32, 34, 36, 38, 40, 41, 43, 44, 46] 46\n",
      "[1, 1, 2, 4, 6, 7, 9, 11, 13, 15, 16, 18, 19, 21, 22, 23, 24, 25, 26, 27, 29, 31, 33, 34, 35, 37, 38, 40, 42, 43, 45] 45\n",
      "[1, 1, 2, 3, 5, 6, 8, 10, 11, 12, 13, 14, 15, 16, 17, 18, 19, 21, 22, 24, 26, 28, 30, 31, 33, 34, 35, 36, 38, 39, 41, 43, 44, 45] 45\n",
      "[1, 1, 3, 5, 6, 8, 9, 10, 11, 13, 15, 17, 18, 19, 20, 22, 23, 24, 25, 27, 29, 31, 33, 35, 37, 38, 39, 40, 41, 43, 44, 46] 46\n",
      "[1, 1, 2, 4, 6, 8, 10, 12, 13, 14, 15, 16, 18, 20, 21, 23, 25, 26, 27, 29, 31, 33, 35, 37, 39, 40, 42, 43, 45] 45\n",
      "[1, 1, 2, 4, 6, 7, 8, 9, 11, 12, 13, 15, 17, 19, 20, 21, 22, 23, 24, 25, 27, 28, 29, 31, 33, 34, 36, 38, 39, 40, 41, 43, 44, 45] 45\n",
      "[1, 1, 2, 3, 5, 6, 7, 9, 10, 11, 13, 15, 16, 17, 19, 20, 22, 23, 24, 25, 26, 28, 30, 31, 33, 34, 35, 36, 38, 39, 41, 42, 43, 45] 45\n",
      "[1, 1, 3, 4, 6, 7, 9, 11, 13, 14, 15, 16, 17, 18, 19, 21, 22, 23, 24, 25, 27, 28, 30, 32, 33, 35, 37, 39, 41, 43, 44, 45] 45\n"
     ]
    }
   ],
   "source": [
    "def sim2(end):\n",
    "    node = 1\n",
    "    nodes_hit = [1]\n",
    "    x=0\n",
    "    while node not in [end,end+1]:\n",
    "        node+=x    \n",
    "        nodes_hit.append(node)\n",
    "        #print(node)\n",
    "        x = np.random.randint(1,3)\n",
    "        \n",
    "    return nodes_hit\n",
    "    \n",
    "    \n",
    "end = 45\n",
    "for i in range(10):\n",
    "    x = sim2(end)\n",
    "    print(x, x[-1])\n",
    "#again can change the above to work with any end value"
   ]
  },
  {
   "cell_type": "code",
   "execution_count": 69,
   "id": "4a350b48-ef0f-4ec8-bd49-a2caebfa4f29",
   "metadata": {
    "tags": []
   },
   "outputs": [
    {
     "name": "stdout",
     "output_type": "stream",
     "text": [
      "Of 10000 many simulations, we land on 3 75.41 percent of the time\n"
     ]
    }
   ],
   "source": [
    "total_sims = 10000\n",
    "counter = 0\n",
    "end = 3\n",
    "for i in range(total_sims):\n",
    "    #print(sim1())\n",
    "    if sim2(end)[-1] == end:\n",
    "        counter+=1\n",
    "    else:\n",
    "        counter = counter\n",
    "        \n",
    "print(f\"Of {total_sims} many simulations, we land on {end} {100*counter/total_sims} percent of the time\")\n",
    "        "
   ]
  },
  {
   "cell_type": "code",
   "execution_count": 70,
   "id": "33c452f5-a513-40fa-91d4-e977afe597cd",
   "metadata": {
    "tags": []
   },
   "outputs": [],
   "source": [
    "#agrees with all the above calculations we did!"
   ]
  },
  {
   "cell_type": "code",
   "execution_count": 71,
   "id": "85f9458b-7cba-46ef-b5eb-f5fa6ae9e555",
   "metadata": {
    "tags": []
   },
   "outputs": [
    {
     "name": "stdout",
     "output_type": "stream",
     "text": [
      "Of 10000 many simulations, we land on 45 66.75 percent of the time\n"
     ]
    }
   ],
   "source": [
    "total_sims = 10000\n",
    "counter = 0\n",
    "end = 45\n",
    "for i in range(total_sims):\n",
    "    #print(sim1())\n",
    "    if sim2(end)[-1] == end:\n",
    "        counter+=1\n",
    "    else:\n",
    "        counter = counter\n",
    "        \n",
    "print(f\"Of {total_sims} many simulations, we land on {end} {100*counter/total_sims} percent of the time\")\n",
    "        "
   ]
  },
  {
   "cell_type": "code",
   "execution_count": 72,
   "id": "cd1e6406-cd0f-4a14-83e9-151769a37302",
   "metadata": {
    "tags": []
   },
   "outputs": [],
   "source": [
    "#so we can find this value, which also passes a sanity check as we expect the probability to tend to 66.66... as our final value gets large~"
   ]
  },
  {
   "cell_type": "markdown",
   "id": "aa0b3421-267b-4e3f-b9c1-35cdf510c2ce",
   "metadata": {},
   "source": [
    "now lets allow different probabilities:"
   ]
  },
  {
   "cell_type": "code",
   "execution_count": 75,
   "id": "bcbee604-e854-4039-bec9-44b1c1bfdc92",
   "metadata": {
    "tags": []
   },
   "outputs": [],
   "source": [
    "def sim3(end,p):\n",
    "    #end is value we want to hit, p is the prob of moving one square, hence 1-p is prob of moving 2.\n",
    "    node = 1\n",
    "    nodes_hit = [1]\n",
    "    x=0\n",
    "    while node not in [end,end+1]:\n",
    "        node+=x    \n",
    "        nodes_hit.append(node)\n",
    "        #print(node)\n",
    "        x = np.random.binomial(size=1,n=1, p=1-p)[0]+1 #p in binom is prob of moving 2 squares, we change it with 1-p so p is prob of going 1 square\n",
    "        \n",
    "    return nodes_hit"
   ]
  },
  {
   "cell_type": "code",
   "execution_count": 74,
   "id": "f5f6e410-72de-4e48-9108-1e5ce87645b6",
   "metadata": {
    "tags": []
   },
   "outputs": [
    {
     "data": {
      "text/plain": [
       "[1, 1, 3, 5, 6, 7, 9, 10]"
      ]
     },
     "execution_count": 74,
     "metadata": {},
     "output_type": "execute_result"
    }
   ],
   "source": [
    "sim3(10,0.5)"
   ]
  },
  {
   "cell_type": "code",
   "execution_count": 78,
   "id": "7fb0887d-5135-4448-8d4f-bdf423188fbc",
   "metadata": {
    "tags": []
   },
   "outputs": [
    {
     "name": "stdout",
     "output_type": "stream",
     "text": [
      "Of 10000 many simulations, we land on 25 66.71 percent of the time\n"
     ]
    }
   ],
   "source": [
    "total_sims = 10000\n",
    "counter = 0\n",
    "end = 25\n",
    "p=0.5\n",
    "for i in range(total_sims):\n",
    "    #print(sim1())\n",
    "    if sim3(end,p)[-1] == end:\n",
    "        counter+=1\n",
    "    else:\n",
    "        counter = counter\n",
    "        \n",
    "print(f\"Of {total_sims} many simulations, we land on {end} {100*counter/total_sims} percent of the time\")\n",
    "#gut check, should give around 66.7"
   ]
  },
  {
   "cell_type": "code",
   "execution_count": 76,
   "id": "8ab0fb37-efe3-4659-9291-80d66fb66130",
   "metadata": {
    "tags": []
   },
   "outputs": [
    {
     "name": "stdout",
     "output_type": "stream",
     "text": [
      "Of 10000 many simulations, we land on 3 78.64 percent of the time\n"
     ]
    }
   ],
   "source": [
    "total_sims = 10000\n",
    "counter = 0\n",
    "end = 3\n",
    "p=0.3\n",
    "for i in range(total_sims):\n",
    "    #print(sim1())\n",
    "    if sim3(end,p)[-1] == end:\n",
    "        counter+=1\n",
    "    else:\n",
    "        counter = counter\n",
    "        \n",
    "print(f\"Of {total_sims} many simulations, we land on {end} {100*counter/total_sims} percent of the time\")\n",
    "        "
   ]
  },
  {
   "cell_type": "markdown",
   "id": "d95ffe5d-254b-4570-8af4-b9e483833ba5",
   "metadata": {},
   "source": [
    "interesting, I would like to see some simulations of different ends and different p's before getting stuck into extension more."
   ]
  },
  {
   "cell_type": "code",
   "execution_count": 79,
   "id": "3d1cb710-c2f3-48ee-bf12-2673f8aa2338",
   "metadata": {
    "tags": []
   },
   "outputs": [
    {
     "name": "stdout",
     "output_type": "stream",
     "text": [
      "Of 10000 simulations with p = 0.2, we land on 2 20.91 percent of the time\n",
      "Of 10000 simulations with p = 0.4, we land on 2 40.29 percent of the time\n",
      "Of 10000 simulations with p = 0.6, we land on 2 60.25 percent of the time\n",
      "Of 10000 simulations with p = 0.8, we land on 2 79.89 percent of the time\n",
      "Of 10000 simulations with p = 0.2, we land on 3 83.94 percent of the time\n",
      "Of 10000 simulations with p = 0.4, we land on 3 75.72 percent of the time\n",
      "Of 10000 simulations with p = 0.6, we land on 3 75.54 percent of the time\n",
      "Of 10000 simulations with p = 0.8, we land on 3 83.82 percent of the time\n",
      "Of 10000 simulations with p = 0.2, we land on 5 74.0 percent of the time\n",
      "Of 10000 simulations with p = 0.4, we land on 5 67.96 percent of the time\n",
      "Of 10000 simulations with p = 0.6, we land on 5 72.7 percent of the time\n",
      "Of 10000 simulations with p = 0.8, we land on 5 83.58 percent of the time\n",
      "Of 10000 simulations with p = 0.2, we land on 10 49.12 percent of the time\n",
      "Of 10000 simulations with p = 0.4, we land on 10 61.84 percent of the time\n",
      "Of 10000 simulations with p = 0.6, we land on 10 71.4 percent of the time\n",
      "Of 10000 simulations with p = 0.8, we land on 10 83.82 percent of the time\n",
      "Of 10000 simulations with p = 0.2, we land on 25 55.96 percent of the time\n",
      "Of 10000 simulations with p = 0.4, we land on 25 62.61 percent of the time\n",
      "Of 10000 simulations with p = 0.6, we land on 25 71.14 percent of the time\n",
      "Of 10000 simulations with p = 0.8, we land on 25 83.33 percent of the time\n",
      "Of 10000 simulations with p = 0.2, we land on 40 55.25 percent of the time\n",
      "Of 10000 simulations with p = 0.4, we land on 40 61.89 percent of the time\n",
      "Of 10000 simulations with p = 0.6, we land on 40 71.03 percent of the time\n",
      "Of 10000 simulations with p = 0.8, we land on 40 83.6 percent of the time\n",
      "Of 10000 simulations with p = 0.2, we land on 60 55.71 percent of the time\n",
      "Of 10000 simulations with p = 0.4, we land on 60 62.33 percent of the time\n",
      "Of 10000 simulations with p = 0.6, we land on 60 71.9 percent of the time\n",
      "Of 10000 simulations with p = 0.8, we land on 60 83.61 percent of the time\n"
     ]
    }
   ],
   "source": [
    "total_sims = 10000\n",
    "\n",
    "ends = [2,3,5,10,25,40,60]\n",
    "ps =[0.2,0.4,0.6,0.8]\n",
    "\n",
    "\n",
    "for end in ends:\n",
    "    for p in ps:\n",
    "        counter = 0\n",
    "        for i in range(total_sims):\n",
    "            #print(sim1())\n",
    "            if sim3(end,p)[-1] == end:\n",
    "                counter+=1\n",
    "            else:\n",
    "                counter = counter\n",
    "\n",
    "        print(f\"Of {total_sims} simulations with p = {p}, we land on {end} {100*counter/total_sims} percent of the time\")\n",
    "        "
   ]
  },
  {
   "cell_type": "markdown",
   "id": "10c60f8a-18f4-4fc9-84d5-d564757fd206",
   "metadata": {},
   "source": [
    "Interesting!!"
   ]
  },
  {
   "cell_type": "markdown",
   "id": "c7d716f9-fc48-4a41-a6f0-b4e841c5be14",
   "metadata": {},
   "source": [
    "Now, I want to plot the probability of hitting 25 based on the value of p."
   ]
  },
  {
   "cell_type": "code",
   "execution_count": 80,
   "id": "bd8d84c6-5946-4e6c-8400-f3601edf491b",
   "metadata": {
    "tags": []
   },
   "outputs": [],
   "source": [
    "total_sims = 10000\n",
    "\n",
    "ends = [25]\n",
    "ps =np.linspace(0,1,100)\n",
    "#print(ps)\n",
    "prob_list = []\n",
    "\n",
    "for end in ends:\n",
    "    for p in ps:\n",
    "        counter = 0\n",
    "        for i in range(total_sims):\n",
    "            #print(sim1())\n",
    "            if sim3(end,p)[-1] == end:\n",
    "                counter+=1\n",
    "            else:\n",
    "                counter = counter\n",
    "\n",
    "        #print(f\"Of {total_sims} simulations with p = {p}, we land on {end} {100*counter/total_sims} percent of the time\")\n",
    "        prob_list.append(counter/total_sims)"
   ]
  },
  {
   "cell_type": "code",
   "execution_count": 82,
   "id": "bfb739ec-a4be-4123-86b3-29c35a286848",
   "metadata": {
    "tags": []
   },
   "outputs": [],
   "source": [
    "f = (-1+(ps-1)**(25))/(ps-2) #analytic solution i computed (adding this after simulating)\n",
    "#print(f)"
   ]
  },
  {
   "cell_type": "code",
   "execution_count": 86,
   "id": "cd2d8a4f-cce2-41b2-a9df-5934dc1f2b90",
   "metadata": {
    "tags": []
   },
   "outputs": [
    {
     "data": {
      "image/png": "[encoded data removed]",
      "text/plain": [
       "<Figure size 640x480 with 1 Axes>"
      ]
     },
     "metadata": {},
     "output_type": "display_data"
    }
   ],
   "source": [
    "plt.plot(ps, prob_list, label = \"Simulated probabilities of hitting 25\")\n",
    "plt.plot(ps,f, label = \"Analytic solution\")\n",
    "plt.xlabel(\"$p$ (probability of moving 1 square)\")\n",
    "plt.ylabel(\"Probability of hitting 25\")\n",
    "plt.title(f\"Probability of hitting {ends[0]} for different p using {total_sims} trials each\")\n",
    "plt.legend()\n",
    "plt.show()"
   ]
  },
  {
   "cell_type": "markdown",
   "id": "125231b1-c264-4a58-8769-7a16cdc4bd5d",
   "metadata": {},
   "source": [
    "How interesting, the shapes match but are also an interesting shape"
   ]
  },
  {
   "cell_type": "code",
   "execution_count": null,
   "id": "a3610975-9c29-410f-9844-cb1f299e28a1",
   "metadata": {},
   "outputs": [],
   "source": []
  }
 ],
 "metadata": {
  "kernelspec": {
   "display_name": "Python 3 (ipykernel)",
   "language": "python",
   "name": "python3"
  },
  "language_info": {
   "codemirror_mode": {
    "name": "ipython",
    "version": 3
   },
   "file_extension": ".py",
   "mimetype": "text/x-python",
   "name": "python",
   "nbconvert_exporter": "python",
   "pygments_lexer": "ipython3",
   "version": "3.11.5"
  }
 },
 "nbformat": 4,
 "nbformat_minor": 5
}
